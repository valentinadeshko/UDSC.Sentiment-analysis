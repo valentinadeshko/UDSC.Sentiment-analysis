{
 "cells": [
  {
   "cell_type": "markdown",
   "metadata": {},
   "source": [
    "<!--<h1 style=\"font-size:40px; font-family:Verdana\" align=\"center\"> UDS-Club Workshop </h1> -->\n",
    "<h2 style=\"font-size:30px; font-family:Verdana\" align=\"center\"> Nonlinear Algorithms: Tree-based and Gradient Boosting Models </h2>\n",
    "<img src='http://i.piccy.info/i9/666d78be04fbcf04fdb321d5953d1fa5/1492256847/123248/1137898/ua_parrots.jpg'/>\n",
    "<h4 style=\"font-size:16px; font-family:Verdana\" align=\"right\"> by Valentina Deshko <br> <pre>    2017-04-23</pre> </h4>"
   ]
  },
  {
   "cell_type": "markdown",
   "metadata": {},
   "source": [
    "# Table of Contents\n",
    "\n",
    "[1. Tree-based Models](##Tree-based-Models)  \n",
    "[Intro to the tree-based algorithms](#Intro-to-the-tree-based-algorithms)  \n",
    "[Constructing the decision tree](#Constructing-the-decision-tree)  \n",
    "[Random Forest (brief overview)](#Random-Forest-(brief-overview))  \n",
    "[Extremely Randomize Trees](#Extremely-Randomize-Trees)  \n",
    "[2. Gradient Boosting Algorithms](#Gradient-Boosting-Algorithms)  \n",
    "[How does boosting work](#How-does-boosting-work)  \n",
    "[Understanding of LightGBm parameters](#Understanding-of-LightGBm-parameters)   \n",
    "[Understanding of XGBoost parameters](#Understanding-of-XGBoost-parameters)   \n",
    "[General approach for parameters tuning](#General-approach-for-parameters-tuning) "
   ]
  },
  {
   "cell_type": "markdown",
   "metadata": {},
   "source": [
    "\n",
    "## 1. Tree-based Models "
   ]
  },
  {
   "cell_type": "markdown",
   "metadata": {},
   "source": [
    "## Intro to the tree-based algorithms"
   ]
  },
  {
   "cell_type": "markdown",
   "metadata": {},
   "source": [
    "Decision tree is one of the most popular supervised machine learning method used for classification and regression. The goal is to create a model that predicts the value of a target variable by learning simple decision rules inferred from the data features. Tree models where the target variable can take a finite set of values are called classification trees. Decision trees where the target variable can take continuous values (typically real numbers) are called regression trees.\n",
    "\n",
    "There are many specific decision-tree algorithms. Notable ones include:\n",
    " - ID3 (Iterative Dichotomiser 3)\n",
    " - C4.5 (successor of ID3)\n",
    " - CART (Classification And Regression Tree)"
   ]
  },
  {
   "cell_type": "markdown",
   "metadata": {},
   "source": [
    "Scikit Learn uses an optimised version of the CART (Classification and Regression Trees) algorithm, that is very similar to C4.5, but it differs in that it supports numerical target variables (regression) and does not compute rule sets. CART constructs binary trees using the feature and threshold that yield the largest information gain at each node. <br> Let us consider how we can build a decision tree using our data."
   ]
  },
  {
   "cell_type": "code",
   "execution_count": 1,
   "metadata": {
    "collapsed": false
   },
   "outputs": [],
   "source": [
    "#import libraries\n",
    "\n",
    "import pandas as pd\n",
    "import numpy as np\n",
    "import os\n",
    "from sklearn.model_selection import train_test_split\n",
    "import re, nltk\n",
    "from nltk.stem import SnowballStemmer\n",
    "from sklearn.feature_extraction.text import TfidfVectorizer \n",
    "from sklearn.feature_extraction.text import HashingVectorizer\n",
    "from sklearn.tree import DecisionTreeClassifier\n",
    "from sklearn.pipeline import Pipeline\n",
    "from sklearn.tree import DecisionTreeClassifier\n",
    "from sklearn.metrics import accuracy_score\n",
    "from sklearn.metrics import classification_report\n",
    "from sklearn.metrics import f1_score\n",
    "from sklearn.tree import export_graphviz\n",
    "from sklearn import  metrics, ensemble\n",
    "from sklearn.model_selection import GridSearchCV  \n",
    "from sklearn.ensemble import RandomForestClassifier\n",
    "from sklearn.utils import shuffle\n",
    "from sklearn.model_selection import StratifiedKFold\n",
    "from lightgbm import LGBMClassifier\n",
    "import xgboost as xgb\n",
    "from xgboost.sklearn import XGBClassifier\n",
    "%matplotlib inline\n"
   ]
  },
  {
   "cell_type": "code",
   "execution_count": 2,
   "metadata": {
    "collapsed": false
   },
   "outputs": [],
   "source": [
    "#train data\n",
    "data = pd.read_csv(\"../data/movie_reviews.csv\", sep=\",\")\n",
    "# test data\n",
    "test_data = pd.read_csv(\"../data/test.csv\", sep=\",\")"
   ]
  },
  {
   "cell_type": "code",
   "execution_count": 3,
   "metadata": {
    "collapsed": true
   },
   "outputs": [],
   "source": [
    "#tokenize data\n",
    "def tokenize(text):\n",
    "    text = re.sub(\"[^a-zA-Z]\", \" \", text)\n",
    "    word_list = nltk.word_tokenize(text)\n",
    "    stemmer = SnowballStemmer(\"english\")\n",
    "    stems = [stemmer.stem(word) for word in word_list]\n",
    "    return stems"
   ]
  },
  {
   "cell_type": "code",
   "execution_count": 4,
   "metadata": {
    "collapsed": true
   },
   "outputs": [],
   "source": [
    "# split data on train and test \n",
    "X_train, X_test, y_train, y_test  = train_test_split(\n",
    "        data.text, \n",
    "        data.label,\n",
    "        test_size=0.1, \n",
    "        random_state=42)"
   ]
  },
  {
   "cell_type": "code",
   "execution_count": 7,
   "metadata": {
    "collapsed": false
   },
   "outputs": [
    {
     "name": "stdout",
     "output_type": "stream",
     "text": [
      "Wall time: 6min 9s\n"
     ]
    }
   ],
   "source": [
    "#buid a classifier\n",
    "clf_tree = DecisionTreeClassifier(criterion='entropy', max_depth=2, random_state=17)\n",
    "vectorizer = TfidfVectorizer(tokenizer=tokenize, ngram_range=(1, 3),\n",
    "                              analyzer = 'word', binary = True, max_df = 0.75, vocabulary=None)\n",
    "\n",
    "#make a pipeline and fit the model\n",
    "pipeline = Pipeline([('vectorizer', vectorizer), \n",
    "                     ('classifier', clf_tree)])\n",
    "model = pipeline.fit(X=X_train, y=y_train)"
   ]
  },
  {
   "cell_type": "code",
   "execution_count": 7,
   "metadata": {
    "collapsed": false
   },
   "outputs": [
    {
     "name": "stdout",
     "output_type": "stream",
     "text": [
      "Validation Accuracy:  0.642225280126\n",
      "F1 score_neg:  0.31234256927\n"
     ]
    }
   ],
   "source": [
    "#validation accuracy\n",
    "y_pred = model.predict(X_test)\n",
    "print (\"Validation Accuracy: \", accuracy_score(y_test, y_pred))\n",
    "print(\"F1 score_neg: \", f1_score(y_test, y_pred, pos_label = 0))"
   ]
  },
  {
   "cell_type": "code",
   "execution_count": 37,
   "metadata": {
    "collapsed": false
   },
   "outputs": [],
   "source": [
    "#tree visualization (don't forget to install pydot library before)\n",
    "\n",
    "export_graphviz(pipeline.named_steps['classifier'], \n",
    "out_file='sentiment_tree.dot', filled=True)\n",
    "\n",
    "#transform our picture from .dot to .png format\n",
    "!dot -Tpng sentiment_tree.dot -o ../small_tree.png"
   ]
  },
  {
   "cell_type": "markdown",
   "metadata": {},
   "source": [
    "<a href=\"http://piccy.info/view3/11093446/0264747ab85fba81e151d28967820cd0/\" target=\"_blank\"><img src=\"http://i.piccy.info/i9/18234d3aac91cc89c6680134b321d6d7/1492623923/49692/1138985/small_tree1.png\" alt=\"Piccy.info - Free Image Hosting\" border=\"0\" /></a><a href=\"http://i.piccy.info/a3c/2017-04-19-17-45/i9-11093446/786x359-r\" target=\"_blank\"><img src=\"http://i.piccy.info/a3/2017-04-19-17-45/i9-11093446/786x359-r/i.gif\" alt=\"\" border=\"0\" /></a>\n"
   ]
  },
  {
   "cell_type": "markdown",
   "metadata": {},
   "source": [
    "We can see which term were choosen to split our data in nodes. <br>\n",
    "[To the table of contents](#Table-of-Contents)"
   ]
  },
  {
   "cell_type": "markdown",
   "metadata": {},
   "source": [
    "\n",
    "## Constructing the decision tree"
   ]
  },
  {
   "cell_type": "markdown",
   "metadata": {
    "collapsed": true
   },
   "source": [
    "So, we can say that decision tree is a simple flowchart that selects labels for target values.\n",
    "This flowchart consists of decision nodes, which check feature values, and leaf nodes, which assign labels. To choose the label for target value, we begin at the flowchart's initial decision node, known as its root node. \n",
    "\n",
    "Decision trees are formed by a collection of rules based on features in the modeling data set:\n",
    "\n",
    "* Rules based on features' values are selected to get the best split to differentiate observations based on the dependent/target variable<br/>\n",
    "* Once a rule is selected and splits a node into two, the same process is applied to each \"child\" node (i.e. it is a recursive procedure)<br/>\n",
    "* Splitting stops when CART detects no further gain can be made, or some pre-set stopping rules are met. (Alternatively, the data are split as much as possible and then the tree is later pruned)<br/>\n",
    "* Each branch of the tree ends in a terminal node. Each observation falls into one and exactly one terminal node, and each terminal node is uniquely defined by a set of rules.\n",
    "\n",
    "\n"
   ]
  },
  {
   "cell_type": "markdown",
   "metadata": {},
   "source": [
    "Feature, that is selected to get the best split intuitively corresponds to the idea of information gain based on entropy. \n",
    "The Shannon entropy (named after Claude Shannon, the \"father of information theory\") for a system with N possible states is defined as follows:\n",
    "$$\\Large S = -\\sum_{i=1}^{N}p_ilog_2p_i$$\n",
    "\n",
    "where p - probability of each label;\n"
   ]
  },
  {
   "cell_type": "markdown",
   "metadata": {},
   "source": [
    "Let's  calculate entropy for our root node and make sure that we get the same result as on our plot."
   ]
  },
  {
   "cell_type": "code",
   "execution_count": 14,
   "metadata": {
    "collapsed": false
   },
   "outputs": [
    {
     "name": "stdout",
     "output_type": "stream",
     "text": [
      "0.9776924394570736\n"
     ]
    }
   ],
   "source": [
    "from math import log\n",
    "S = - 56629/137349*log(56629/137349, 2) - 80720/137349*log(80720/137349, 2)\n",
    "print(S)"
   ]
  },
  {
   "cell_type": "markdown",
   "metadata": {},
   "source": [
    "By itself this value doesn't say a lot to us. So, lets split our data and calculate an Information Gain (which is the difference between the entropies before and after split)\n",
    "\n",
    "$$\\Large IG(Q) = S_O - \\sum_{i=1}^{q}\\frac{|N_i|}{N}S_i,$$\n",
    "\n",
    "N_i - subset of N, which has value i;<br>\n",
    "q - number of nodes."
   ]
  },
  {
   "cell_type": "markdown",
   "metadata": {},
   "source": [
    "### Task1 \n",
    "please add the required data and calculate Information Gain after the decision tree' first split on our plot using the formula above."
   ]
  },
  {
   "cell_type": "code",
   "execution_count": null,
   "metadata": {
    "collapsed": true
   },
   "outputs": [],
   "source": [
    "IG = S - N1/137349*S1 - N2/137349*S2"
   ]
  },
  {
   "cell_type": "markdown",
   "metadata": {
    "collapsed": false
   },
   "source": [
    "<details>\n",
    "  <summary>Click to see answer</summary>\n",
    "      <pre>\n",
    "          <code>\n",
    "              IG = 0.03             \n",
    "          </code>\n",
    "      </pre>\n",
    "</details>"
   ]
  },
  {
   "cell_type": "markdown",
   "metadata": {},
   "source": [
    "### Main parameters:\n",
    "* max_depth – the maximum depth of the tree;\n",
    "* max_features - the number of features to consider when looking for the best split;\n",
    "* min_samples_leaf – the minimum number of samples required to split an internal node.<br>\n",
    "You can use cross-validation to tune model hyperparameters."
   ]
  },
  {
   "cell_type": "markdown",
   "metadata": {},
   "source": [
    "  ### Decision Trees Pros\n",
    "* Simple to understand and to interpret (uses a white box model). Trees can be visualised.\n",
    "* Requires little data preparation.\n",
    "* Able to handle both numerical and categorical data.\n",
    "* Fast training \n",
    "\n",
    "### Decision Trees Cons\n",
    "* Decision-tree learners can create over-complex trees that do not generalise the data well (overfitting).\n",
    "* Can be unstable because small variations in the data might result in a completely different tree being generated.\n",
    "* Decision tree learners create biased trees if some classes dominate. It is therefore recommended to balance the dataset prior to fitting with the decision tree. <br>\n",
    "\n",
    "[To the table of contents](#Table-of-Contents)"
   ]
  },
  {
   "cell_type": "markdown",
   "metadata": {},
   "source": [
    "## Ensemble Algorithms: Random Forest and Extra Trees"
   ]
  },
  {
   "cell_type": "markdown",
   "metadata": {},
   "source": [
    "But what should we do if we can not improve model accuracy using only one algorithm? We should try more advanced machine learning techniques called \"ensembles\". \n",
    "Simply put we can say that ensemble is predictions' aggregation of several basic algorithms aiming higher accuracy. <br>\n",
    "\n",
    "Lets start learning ensemble algorithms with notion of Bagging.<br>\n",
    "A Bagging is an ensemble meta-estimator that fits base classifiers/regressors each on random subsets of the original dataset and then aggregate their individual predictions (in classification case by voting, in regression case by averaging) to form a final prediction.\n",
    "\n",
    "<img src=\"http://i.piccy.info/i9/293f6705e969ef92944f31c6c08ae1c6/1492767761/123500/1138985/bagging.png\"/>"
   ]
  },
  {
   "cell_type": "markdown",
   "metadata": {},
   "source": [
    "### Random Forest (brief overview)"
   ]
  },
  {
   "cell_type": "markdown",
   "metadata": {},
   "source": [
    "Random Forest is an ensemble learning method for classification, regression and other tasks, that operate by constructing a multitude of decision trees at training time and outputting the class that is the mode of the classes (classification) or mean prediction (regression) of the individual trees (decision trees that are grown very deep tend to learn highly irregular patterns: they overfit their training sets, i.e. have low bias, but very high variance. Random forests are a way of averaging multiple deep decision trees, trained on different parts of the same training set, with the goal of reducing the variance).\n",
    "Random decision forests correct for decision trees' habit of overfitting to their training set. <br> \n",
    "\n",
    "So we can say that Random Forest is like bootstrapping algorithm with Decision tree (CART) model. Random forests differ in only one way from this general scheme: they use a modified tree learning algorithm that selects, at each candidate split in the learning process, a random subset of the features. This process is called random subspace method or sometimes \"feature bagging\", and it attempts to reduce the correlation between estimators (decision trees) in an ensemble by training them on random samples of features instead of the entire feature set. <br> \n"
   ]
  },
  {
   "cell_type": "code",
   "execution_count": 7,
   "metadata": {
    "collapsed": false
   },
   "outputs": [
    {
     "name": "stdout",
     "output_type": "stream",
     "text": [
      "Validation Accuracy:  0.745298473232\n",
      "F1 score_neg:  0.612191958495\n"
     ]
    }
   ],
   "source": [
    "# RF code and example\n",
    "\n",
    "rf_classifier = RandomForestClassifier(n_estimators = 50, min_samples_leaf=3, n_jobs = -1,\n",
    "                                       random_state = 17)\n",
    "\n",
    "vectorizer = TfidfVectorizer(tokenizer=tokenize, ngram_range=(1, 3),\n",
    "                              analyzer = 'word', binary = True, max_df = 0.75, vocabulary=None)\n",
    "\n",
    "pipeline = Pipeline([('vectorizer', vectorizer), \n",
    "                     ('classifier', rf_classifier)])\n",
    "model = pipeline.fit(X=X_train, y=y_train)\n",
    "\n",
    "y_pred = model.predict(X_test)\n",
    "\n",
    "print (\"Validation Accuracy: \", accuracy_score(y_test, y_pred))\n",
    "print(\"F1 score_neg: \", f1_score(y_test, y_pred, pos_label = 0))"
   ]
  },
  {
   "cell_type": "code",
   "execution_count": 8,
   "metadata": {
    "collapsed": false
   },
   "outputs": [
    {
     "name": "stdout",
     "output_type": "stream",
     "text": [
      "Test Accuracy:  0.63339587242\n",
      "F1 score_neg:  0.444412851862\n",
      "             precision    recall  f1-score   support\n",
      "\n",
      "          0       0.92      0.29      0.44      5330\n",
      "          1       0.58      0.97      0.73      5330\n",
      "\n",
      "avg / total       0.75      0.63      0.59     10660\n",
      "\n"
     ]
    }
   ],
   "source": [
    "y_pred_test = model.predict(test_data.text)\n",
    "print (\"Test Accuracy: \", accuracy_score(test_data.label, y_pred_test))\n",
    "print(\"F1 score_neg: \", f1_score(test_data.label, y_pred_test, pos_label = 0))\n",
    "\n",
    "print(classification_report(test_data.label, y_pred_test))"
   ]
  },
  {
   "cell_type": "markdown",
   "metadata": {},
   "source": [
    "Main parameters:\n",
    "* n_estimators — the number of trees in the forest (by default=10);\n",
    "* max_features — the number of features to consider when looking for the best split;\n",
    "* criterion — the function to measure the quality of a split ('mse' for regression, gini' or 'entropy' for classification);\n",
    "* min_samples_leaf — the minimum number of samples required to be at a leaf node;\n",
    "* max_depth — the maximum depth of the tree.\n",
    "\n",
    "You could find more information about Randon Forest (and other ensembles) parameters [here](http://scikit-learn.org/stable/modules/classes.html#module-sklearn.ensemble)."
   ]
  },
  {
   "cell_type": "markdown",
   "metadata": {},
   "source": [
    "### Random Forest Pros:\n",
    "* it is one of the most accurate learning algorithms available. For many data sets, it produces a highly accurate classifier;\n",
    "* runs efficiently on large databases;\n",
    "* gives estimates of what variables are important in the classification;\n",
    "* has an effective method for estimating missing data and maintains accuracy when a large proportion of the data are missing;\n",
    "* has methods for balancing error in class population unbalanced data sets;\n",
    "\n",
    "### Random Forest Cons:\n",
    "* produces a lower accurary on 'sparse' data (e.g. text, bag of words, sparse matrix);\n",
    "* can be overfitted for some datasets with noisy classification/regression tasks;\n",
    "* difficult to interpret.\n",
    "\n",
    "[To the table of contents](#Table-of-Contents)"
   ]
  },
  {
   "cell_type": "markdown",
   "metadata": {},
   "source": [
    "### Extremely Randomize Trees"
   ]
  },
  {
   "cell_type": "markdown",
   "metadata": {},
   "source": [
    "or Extra Trees are very similar to Random Forest algorithm, but use differenrt approach to constructing the decion trees:\n",
    "\n",
    "* each tree is built from the complete learning sample (doesn't apply the bagging procedure to construct a set of the training samples for each tree);\n",
    "* for each of the features (randomly selected at each interior node) a discretization threshold (cut-point) is selected at random to define a split, instead of choosing the best cut-point based on the local sample (as in Tree Bagging or in the Random Forests methods)."
   ]
  },
  {
   "cell_type": "code",
   "execution_count": 41,
   "metadata": {
    "collapsed": false
   },
   "outputs": [
    {
     "name": "stdout",
     "output_type": "stream",
     "text": [
      "Validation Accuracy:  0.77137802241\n",
      "F1 score_neg:  0.734333358715\n"
     ]
    }
   ],
   "source": [
    "# Extra Tree Classifier\n",
    "from sklearn.ensemble import ExtraTreesClassifier\n",
    "clf = ExtraTreesClassifier(n_estimators=50, \n",
    "                             max_leaf_nodes=None, \n",
    "                             min_samples_leaf=3, \n",
    "                             random_state=1,\n",
    "                             n_jobs=-1,\n",
    "                             class_weight='balanced'\n",
    "                            )\n",
    "\n",
    "# create pipeline\n",
    "model = Pipeline([('vectorizer', vectorizer),\n",
    "        ('clf', clf)])\n",
    "\n",
    "# fit model\n",
    "model.fit(X_train, y_train)\n",
    "\n",
    "y_pred = model.predict(X_test)\n",
    "print (\"Validation Accuracy: \", accuracy_score(y_test, y_pred))\n",
    "print(\"F1 score_neg: \", f1_score(y_test, y_pred, pos_label = 0))"
   ]
  },
  {
   "cell_type": "code",
   "execution_count": 42,
   "metadata": {
    "collapsed": false
   },
   "outputs": [
    {
     "name": "stdout",
     "output_type": "stream",
     "text": [
      "Test Accuracy:  0.776547842402\n",
      "F1 score_neg:  0.754128819158\n",
      "             precision    recall  f1-score   support\n",
      "\n",
      "          0       0.84      0.69      0.75      5330\n",
      "          1       0.73      0.87      0.80      5330\n",
      "\n",
      "avg / total       0.79      0.78      0.77     10660\n",
      "\n"
     ]
    }
   ],
   "source": [
    "y_pred_test = model.predict(test_data.text)\n",
    "print (\"Test Accuracy: \", accuracy_score(test_data.label, y_pred_test))\n",
    "print(\"F1 score_neg: \", f1_score(test_data.label, y_pred_test, pos_label = 0))\n",
    "\n",
    "print(classification_report(test_data.label, y_pred_test))"
   ]
  },
  {
   "cell_type": "markdown",
   "metadata": {},
   "source": [
    "[To the table of contents](#Table-of-Contents)"
   ]
  },
  {
   "cell_type": "markdown",
   "metadata": {},
   "source": [
    "\n",
    "\n",
    "\n",
    "\n",
    "# 2. Gradient Boosting Algorithms"
   ]
  },
  {
   "cell_type": "markdown",
   "metadata": {},
   "source": [
    "### How does boosting work"
   ]
  },
  {
   "cell_type": "markdown",
   "metadata": {
    "collapsed": true
   },
   "source": [
    "The common ensemble techniques like random forests rely on simple averaging of models in the ensemble. The family of boosting methods is based on a different, constructive strategy of ensemble formation. The main idea of boosting is to add new models to the ensemble sequentially. <br> \n",
    "\n",
    "In gradient boosting  the learning procedure consecutively fits new models to provide a more accurate estimate of the response variable. The principle idea behind this algorithm is to construct the new base-learners to be maximally correlated with the negative gradient of the loss function, associated with the whole ensemble. Simply put, the next algorithm tries to fix the error of the previous one. \n",
    "\n",
    "Briefly consider the constructing of gradient boosting algorithm:\n",
    "\n",
    "* Step 1. Applying a base learning algorithm.\n",
    "* Step 2. Initially all points have same weight (denoted by their size). After the first iteration the points classified correctly  are given a lower weight and vice versa.\n",
    "* Step 3. The next algorithm focuses on high weight points and try to classificate them correctly.\n",
    "* Step 4. Iterate steps 2 and 3  till the limit of base learning algorithm is reached or higher accuracy is achieved or no longer improves on an external validation dataset.\n",
    "\n",
    "\n",
    "We will consider XGBoost and LightGbm: gradient boosting frameworks that use tree based learning algorithms. \n",
    "\n",
    "[To the table of contents](#Table-of-Contents)"
   ]
  },
  {
   "cell_type": "markdown",
   "metadata": {},
   "source": [
    "\n",
    "\n",
    "## Understanding of LightGBm parameters"
   ]
  },
  {
   "cell_type": "markdown",
   "metadata": {},
   "source": [
    "Building a model using XGBoost or LightGbm is easy. But improving the model is difficult. These algorithms use multiple parameters. To improve the model, parameter tuning is must. It is very difficult to get answers to practical questions like – Which set of parameters should be tuned ? Let's take a look on general GBm parameters\n",
    "\n",
    "All GBM parameters can be divided in three main groups:\n",
    "1. Tree-Specific Parameters;\n",
    "2. Boosting Parameters;\n",
    "3. Miscellaneous Parameters. \n",
    "\n",
    "\n",
    "The optimal parameters of a model can depend on many scenarios. So it is impossible to create a comprehensive guide for doing so. We will try to provide some guideline for parameters in gradient boosting models."
   ]
  },
  {
   "cell_type": "markdown",
   "metadata": {},
   "source": [
    "## Notes on LightGbm parameters tuning\n",
    "\n",
    "### For better accuracy\n",
    "\n",
    "* Use large `num_leaves` - number of leaves in one tree (may cause over-fitting) <br>\n",
    "* Use large `max_bin` (max number of bin that feature values will bucket in) <br>\n",
    "* Use small `learning_rate` (shrinkage rate) with large `num_iterations` (only used in prediction task, used to how many trained iterations will be used in prediction) <br>\n",
    "* Use bigger training data <br>\n",
    "\n",
    "\n",
    "### For faster \n",
    "\n",
    "* Use bagging by set `bagging_fraction` (will random select part of data)  and `bagging_freq` (Frequency for bagging) <br>\n",
    "* Use feature sub-sampling by set `feature_fraction` (will random select part of features on each iteration)\n",
    "* Use small `max_bin`\n",
    "* Use `save_binary` (will save the data set(include validation data) to a binary file)  to speed up data loading in future learning <br>\n",
    "* Use parallel learning, refer to [parallel learning guide](https://github.com/Microsoft/LightGBM/wiki/Parallel-Learning-Guide) \n",
    "\n",
    "### Deal with over-fitting\n",
    "\n",
    "* Use small `max_bin` <br>\n",
    "* Use small `num_leaves` <br>\n",
    "* Use `min_data_in_leaf` (minimal number of data in one leaf) <br>\n",
    "* Use bagging by set `bagging_fraction` and `bagging_freq` <br>\n",
    "* Use feature sub-sampling by set `feature_fraction` <br>\n",
    "* Use bigger training data <br>\n",
    "* Try `lambda_l1`, `lambda_l2` and `min_gain_to_split` to regularization <br>\n",
    "* Try `max_depth` to avoid growing deep tree (tree still grows by leaf-wise) <br>\n",
    "\n",
    "To learn more about tuning LightGbm hyperparameters please click [this link](https://github.com/Microsoft/LightGBM/blob/master/docs/Parameters.md)."
   ]
  },
  {
   "cell_type": "code",
   "execution_count": 5,
   "metadata": {
    "collapsed": false
   },
   "outputs": [
    {
     "name": "stdout",
     "output_type": "stream",
     "text": [
      "Validation Accuracy:  0.792674136688\n"
     ]
    }
   ],
   "source": [
    "# LightGbm classifier\n",
    "\n",
    "clf = LGBMClassifier(\n",
    "    colsample_bytree=0.7, \n",
    "    learning_rate=0.1, \n",
    "    max_depth=-1, \n",
    "    min_child_samples=15, \n",
    "    n_estimators=150, \n",
    "    reg_lambda=1, \n",
    "    scale_pos_weight=0.85, \n",
    "    subsample_for_bin=5000\n",
    "    )\n",
    "\n",
    "vectorizer = HashingVectorizer(tokenizer=tokenize, ngram_range=(1, 3),\n",
    "                              analyzer = 'word', binary = True)\n",
    "# create pipeline                                                                                     \n",
    "\n",
    "pipeline = Pipeline([('vectorizer', vectorizer),\n",
    "                  ('clf', clf)])\n",
    "# fit model\n",
    "model = pipeline.fit(X=X_train, y=y_train)\n",
    "\n",
    "y_pred = model.predict(X_test)\n",
    "print (\"Validation Accuracy: \", accuracy_score(y_test, y_pred))"
   ]
  },
  {
   "cell_type": "code",
   "execution_count": 6,
   "metadata": {
    "collapsed": false
   },
   "outputs": [
    {
     "name": "stdout",
     "output_type": "stream",
     "text": [
      "Test Accuracy:  0.73574108818\n",
      "F1 score_neg:  0.692702083561\n",
      "             precision    recall  f1-score   support\n",
      "\n",
      "          0       0.83      0.60      0.69      5330\n",
      "          1       0.68      0.88      0.77      5330\n",
      "\n",
      "avg / total       0.76      0.74      0.73     10660\n",
      "\n"
     ]
    }
   ],
   "source": [
    "y_pred_test = model.predict(test_data.text)\n",
    "print (\"Test Accuracy: \", accuracy_score(test_data.label, y_pred_test))\n",
    "print(\"F1 score_neg: \", f1_score(test_data.label, y_pred_test, pos_label = 0))\n",
    "\n",
    "print(classification_report(test_data.label, y_pred_test))"
   ]
  },
  {
   "cell_type": "markdown",
   "metadata": {},
   "source": [
    "[To the table of contents](#Table-of-Contents)"
   ]
  },
  {
   "cell_type": "markdown",
   "metadata": {},
   "source": [
    "## Understanding of XGBoost parameters"
   ]
  },
  {
   "cell_type": "markdown",
   "metadata": {},
   "source": [
    "\n",
    "### Notes on XGBoost parameters tuning\n",
    "\n",
    "Usually we start tuning parameters with these first: <br>\n",
    "`n_estimators` - number of algorithms; <br>\n",
    "`max_depth` - maximum depth of a tree, increase this value will make the model more complex; <br>\n",
    "`min_child_weight` - minimum sum of instance weight (hessian) needed in a child <br>\n",
    "`gamma` - minimum loss reduction required to make a further partition on a leaf node of the tree <br>\n",
    "as they will have the highest impact on model outcome\n",
    "\n",
    "\n",
    "\n",
    "### Control Overfitting\n",
    "When you observe high training accuracy, but low tests accuracy, it is likely that you encounter overfitting problem.\n",
    "\n",
    "There are in general two ways that you can control overfitting:\n",
    "\n",
    "* The first way is to directly control model complexity\n",
    "This include `max_depth` - maximum depth of a tree, increase this value will make the model more complex; <br>\n",
    "`min_child_weight` - minimum sum of instance weight needed in a child; <br>\n",
    "`gamma` - minimum loss reduction required to make a further partition on a leaf node of the tree.\n",
    "\n",
    "\n",
    "* The second way is to add randomness to make training robust to noise\n",
    "This include `subsample` - subsample ratio of the training instance,\n",
    "`colsample_bytree` - subsample ratio of columns when constructing each tree. <br>\n",
    "You can also reduce stepsize `eta`  -step size shrinkage used in update to prevents overfitting,\n",
    "but needs to remember to increase `num_round` (the number of rounds for boosting)  when you do so.\n",
    "\n",
    "\n",
    "### Handle Imbalanced Dataset\n",
    "There are two ways to improve it:\n",
    "\n",
    "* If you care only about the ranking order (AUC) of your prediction\n",
    "Balance the positive and negative weights, via `scale_pos_weight`\n",
    "Use AUC for evaluation\n",
    "* If you care about predicting the right probability\n",
    "In such a case, you cannot re-balance the dataset\n",
    "In such a case, set parameter `max_delta_step` to a finite number (say 1) will help convergence <br>\n",
    "\n",
    "More information you can find in this [nice article](https://www.analyticsvidhya.com/blog/2016/03/complete-guide-parameter-tuning-xgboost-with-codes-python/)."
   ]
  },
  {
   "cell_type": "code",
   "execution_count": 15,
   "metadata": {
    "collapsed": false
   },
   "outputs": [
    {
     "name": "stdout",
     "output_type": "stream",
     "text": [
      "Validation Accuracy:  0.796867833038\n"
     ]
    }
   ],
   "source": [
    "# create a pipeline\n",
    "clf = xgb.XGBClassifier(learning_rate=0.2, \n",
    "                        n_estimators = 200,\n",
    "                        objective='binary:logistic', \n",
    "                        colsample_bytree=0.8,\n",
    "                        min_child_weight=7,\n",
    "                        max_depth=10,\n",
    "                        scale_pos_weight=0.8\n",
    "                        )\n",
    "vectorizer = HashingVectorizer(tokenizer=tokenize, ngram_range=(1, 3),\n",
    "                              analyzer = 'word', binary = True)\n",
    "pipeline = Pipeline([('vectorizer', vectorizer), \n",
    "                     ('classifier', clf)])\n",
    "\n",
    "# fit model\n",
    "model = pipeline.fit(X=X_train, y=y_train)\n",
    "y_pred = model.predict(X_test)\n",
    "\n",
    "print (\"Validation Accuracy: \", accuracy_score(y_test, y_pred))"
   ]
  },
  {
   "cell_type": "code",
   "execution_count": 16,
   "metadata": {
    "collapsed": false
   },
   "outputs": [
    {
     "name": "stdout",
     "output_type": "stream",
     "text": [
      "Test Accuracy:  0.754315196998\n",
      "F1 score_neg:  0.722651699672\n",
      "             precision    recall  f1-score   support\n",
      "\n",
      "          0       0.83      0.64      0.72      5330\n",
      "          1       0.71      0.87      0.78      5330\n",
      "\n",
      "avg / total       0.77      0.75      0.75     10660\n",
      "\n"
     ]
    }
   ],
   "source": [
    "y_pred_test = model.predict(test_data.text)\n",
    "print (\"Test Accuracy: \", accuracy_score(test_data.label, y_pred_test))\n",
    "print(\"F1 score_neg: \", f1_score(test_data.label, y_pred_test, pos_label = 0))\n",
    "\n",
    "print(classification_report(test_data.label, y_pred_test))"
   ]
  },
  {
   "cell_type": "markdown",
   "metadata": {},
   "source": [
    "[To the table of contents](#Table-of-Contents)"
   ]
  },
  {
   "cell_type": "markdown",
   "metadata": {},
   "source": [
    "## General approach for parameters tuning"
   ]
  },
  {
   "cell_type": "markdown",
   "metadata": {
    "collapsed": true
   },
   "source": [
    "Using scikit-learn we can perform a grid search of the  model parameters.<br> \n",
    "Will be using  5000 reviews from our whole data and basic XGBoost algorithm just to demonstrate a basic prinsiple how to tune XGBoost hyperparameters."
   ]
  },
  {
   "cell_type": "code",
   "execution_count": 44,
   "metadata": {
    "collapsed": false
   },
   "outputs": [],
   "source": [
    "# select 5000 reviews from data\n",
    "train, test = train_test_split(\n",
    "        data, \n",
    "        train_size=5000, \n",
    "        random_state=17)"
   ]
  },
  {
   "cell_type": "code",
   "execution_count": 46,
   "metadata": {
    "collapsed": false
   },
   "outputs": [],
   "source": [
    "#classifier\n",
    "clf = xgb.XGBClassifier(learning_rate=0.1, max_depth=5)\n",
    "vectorizer = TfidfVectorizer(tokenizer=tokenize, ngram_range=(1, 3),\n",
    "                              analyzer = 'word', binary = True, max_df = 0.75, vocabulary=None)\n",
    "\n",
    "pipeline = Pipeline([('vectorizer', vectorizer), \n",
    "                     ('classifier', clf)])\n",
    "\n",
    "#set the parameters range that we try to tune\n",
    "parameters = {\n",
    "    'classifier__n_estimators': (1, 20, 50, 100, 150, 200, 250)}\n",
    "\n",
    "#use cross-validation to evaluate the performance\n",
    "kfold = StratifiedKFold(n_splits=3, shuffle=True, random_state=17)\n",
    "\n",
    "#use gridsearch over specified parameter values for an estimator\n",
    "grid_search = GridSearchCV(pipeline, param_grid=parameters, scoring=\"accuracy\", cv=kfold)\n",
    "grid_result = grid_search.fit(X=train.text, y=train.label)\n"
   ]
  },
  {
   "cell_type": "code",
   "execution_count": 47,
   "metadata": {
    "collapsed": false
   },
   "outputs": [
    {
     "name": "stdout",
     "output_type": "stream",
     "text": [
      "Best: 0.719200 using {'classifier__n_estimators': 250}\n",
      "0.641600 (0.005010) with: {'classifier__n_estimators': 1}\n",
      "0.682600 (0.003730) with: {'classifier__n_estimators': 20}\n",
      "0.696800 (0.003562) with: {'classifier__n_estimators': 50}\n",
      "0.713400 (0.001904) with: {'classifier__n_estimators': 100}\n",
      "0.716200 (0.005331) with: {'classifier__n_estimators': 150}\n",
      "0.717800 (0.003517) with: {'classifier__n_estimators': 200}\n",
      "0.719200 (0.005964) with: {'classifier__n_estimators': 250}\n"
     ]
    }
   ],
   "source": [
    "# summarize results\n",
    "print(\"Best: %f using %s\" % (grid_result.best_score_, grid_result.best_params_))\n",
    "accuracy = grid_result.cv_results_['mean_test_score']\n",
    "stds = grid_result.cv_results_['std_test_score']\n",
    "params = grid_result.cv_results_['params']\n",
    "for mean, stdev, param in zip(accuracy, stds, params):\n",
    "    print(\"%f (%f) with: %r\" % (mean, stdev, param))"
   ]
  },
  {
   "cell_type": "code",
   "execution_count": 49,
   "metadata": {
    "collapsed": false
   },
   "outputs": [
    {
     "data": {
      "text/plain": [
       "<matplotlib.text.Text at 0x29d441b54a8>"
      ]
     },
     "execution_count": 49,
     "metadata": {},
     "output_type": "execute_result"
    },
    {
     "data": {
      "image/png": "[encoded data removed]",
      "text/plain": [
       "<matplotlib.figure.Figure at 0x29d1bf3cf28>"
      ]
     },
     "metadata": {},
     "output_type": "display_data"
    }
   ],
   "source": [
    "# plot\n",
    "plt.figure(figsize=((10,5)))\n",
    "n_estimators = (1, 20, 50, 100, 150, 200, 250)\n",
    "pyplot.errorbar(n_estimators, accuracy)\n",
    "pyplot.ylim([0.64, 0.74])\n",
    "pyplot.title(\"XGBoost: n_estimators vs Accuracy\")\n",
    "pyplot.xlabel('n_estimators')\n",
    "pyplot.ylabel('Accuracy')"
   ]
  },
  {
   "cell_type": "markdown",
   "metadata": {},
   "source": [
    "Most implementations of gradient boosting are configured by default with a relatively small number of trees, such as hundreds for example.\n",
    "The general reason is that on most problems, adding more trees beyond a limit does not improve the performance of the model.\n",
    "The reason is in the way that the boosted tree model is constructed, sequentially where each new tree attempts to model and correct for the errors made by the sequence of previous trees. Quickly, the model reaches a point of diminishing returns."
   ]
  },
  {
   "cell_type": "markdown",
   "metadata": {},
   "source": [
    "### Task2\n",
    "Please complete the code below and try to find the best size of decision trees (max_depth in range from 1 to 9 with step=2)\n",
    "and plot the results. <br> Any ideas why we've got such result? ^-^"
   ]
  },
  {
   "cell_type": "code",
   "execution_count": 32,
   "metadata": {
    "collapsed": false
   },
   "outputs": [],
   "source": [
    "parameters = {\n",
    "   'classifier__*****': (****)}\n",
    "\n",
    "kfold = StratifiedKFold(n_splits=3, shuffle=True, random_state=17)\n",
    "\n",
    "grid_search = GridSearchCV(pipeline, param_grid=***, scoring=\"accuracy\", cv=kfold)\n",
    "grid_result = ******\n",
    "    "
   ]
  },
  {
   "cell_type": "code",
   "execution_count": null,
   "metadata": {
    "collapsed": true
   },
   "outputs": [],
   "source": [
    "# summarize results\n",
    "print(\"Best: %f using %s\" % (grid_result.best_score_, grid_result.best_params_))\n",
    "accuracy = grid_result.cv_results_['mean_test_score']\n",
    "stds = grid_result.cv_results_['std_test_score']\n",
    "params = grid_result.cv_results_['params']\n",
    "for mean, stdev, param in zip(accuracy, stds, params):\n",
    "    print(\"%f (%f) with: %r\" % (mean, stdev, param))"
   ]
  },
  {
   "cell_type": "code",
   "execution_count": null,
   "metadata": {
    "collapsed": true
   },
   "outputs": [],
   "source": [
    "# plot\n",
    "\n",
    "plt.figure(figsize=((10,5)))\n",
    "n_estimators** = (*****)\n",
    "pyplot.errorbar()\n",
    "pyplot.title(\"XGBoost: max_depth vs Accuracy)\n",
    "pyplot.xlabel('****')\n",
    "pyplot.ylabel('Accuracy')"
   ]
  },
  {
   "cell_type": "markdown",
   "metadata": {
    "collapsed": true
   },
   "source": [
    "[To the table of contents](#Table-of-Contents)"
   ]
  }
 ],
 "metadata": {
  "kernelspec": {
   "display_name": "Python 3",
   "language": "python",
   "name": "python3"
  },
  "language_info": {
   "codemirror_mode": {
    "name": "ipython",
    "version": 3
   },
   "file_extension": ".py",
   "mimetype": "text/x-python",
   "name": "python",
   "nbconvert_exporter": "python",
   "pygments_lexer": "ipython3",
   "version": "3.6.0"
  }
 },
 "nbformat": 4,
 "nbformat_minor": 2
}
